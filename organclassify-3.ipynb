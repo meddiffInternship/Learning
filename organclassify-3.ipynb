{
 "cells": [
  {
   "cell_type": "code",
   "execution_count": 1,
   "metadata": {
    "collapsed": true
   },
   "outputs": [],
   "source": [
    "import cv2                \n",
    "import numpy as np         \n",
    "import os                  \n",
    "from random import shuffle \n",
    "from tqdm import tqdm\n",
    "import tensorflow as tf\n",
    "import tflearn\n",
    "from tflearn.layers.conv import conv_2d, max_pool_2d\n",
    "from tflearn.layers.core import input_data, dropout, fully_connected\n",
    "from tflearn.layers.estimator import regression\n",
    "import matplotlib.pyplot as plt\n",
    "import dicom"
   ]
  },
  {
   "cell_type": "code",
   "execution_count": 2,
   "metadata": {},
   "outputs": [
    {
     "name": "stderr",
     "output_type": "stream",
     "text": [
      "100%|██████████| 2844/2844 [00:03<00:00, 745.91it/s]\n"
     ]
    }
   ],
   "source": [
    "TRAIN_DIR = '/home/aayushi/meddiff/train-med/train'\n",
    "TEST_DIR = '/home/aayushi/meddiff/train-med/test'\n",
    "IMG_SIZE = 50\n",
    "LR = 0.001\n",
    "MODEL_NAME = 'ct-{}-{}.model'.format(LR, '4conv-basic')\n",
    "\n",
    "def label_img(img):\n",
    "    word_label = img.split('.')[-3]\n",
    "    # conversion to one-hot array\n",
    "    if word_label == 'lymph': return [1,0,0]\n",
    "    elif word_label == 'colon': return [0,1,0]\n",
    "    elif word_label == 'brain' : return [0,0,1]\n",
    "    \n",
    "def create_train_data():\n",
    "    training_data = []\n",
    "    for img in tqdm(os.listdir(TRAIN_DIR)):\n",
    "        label = label_img(img)\n",
    "        path = os.path.join(TRAIN_DIR,img)\n",
    "        img = dicom.read_file(path, force=True)\n",
    "        new_img = cv2.resize(np.array(img.pixel_array),(IMG_SIZE,IMG_SIZE))\n",
    "        training_data.append([np.array(new_img),np.array(label)])\n",
    "    shuffle(training_data)\n",
    "    np.save('/home/aayushi/meddiff/train-med/train.npy', training_data)\n",
    "    return training_data   \n",
    "\n",
    "def process_test_data():\n",
    "    testing_data = []\n",
    "    for img in tqdm(os.listdir(TEST_DIR)):\n",
    "        path = os.path.join(TEST_DIR,img)\n",
    "        img_num = img.split('.')[0]\n",
    "        img = dicom.read_file(path, force=True)\n",
    "        new_img = cv2.resize(np.array(img.pixel_array),(IMG_SIZE,IMG_SIZE))\n",
    "        testing_data.append([np.array(new_img), img_num])\n",
    "        \n",
    "    shuffle(testing_data)\n",
    "    np.save('/home/aayushi/meddiff/train-med/test.npy', testing_data)\n",
    "    return testing_data\n",
    "\n",
    "train_data = create_train_data()\n"
   ]
  },
  {
   "cell_type": "code",
   "execution_count": 3,
   "metadata": {},
   "outputs": [
    {
     "name": "stdout",
     "output_type": "stream",
     "text": [
      "Training Step: 429  | total loss: \u001b[1m\u001b[32m0.00000\u001b[0m\u001b[0m | time: 5.275s\n",
      "| Adam | epoch: 010 | loss: 0.00000 - acc: 1.0000 -- iter: 2688/2694\n",
      "Training Step: 430  | total loss: \u001b[1m\u001b[32m0.00000\u001b[0m\u001b[0m | time: 6.379s\n",
      "| Adam | epoch: 010 | loss: 0.00000 - acc: 1.0000 | val_loss: 0.00000 - val_acc: 1.0000 -- iter: 2694/2694\n",
      "--\n"
     ]
    }
   ],
   "source": [
    "convnet = input_data(shape=[None, IMG_SIZE, IMG_SIZE, 1], name='input')\n",
    "\n",
    "convnet = conv_2d(convnet, 32, 5, activation='relu')\n",
    "convnet = max_pool_2d(convnet, 5)\n",
    "\n",
    "convnet = conv_2d(convnet, 64, 5, activation='relu')\n",
    "convnet = max_pool_2d(convnet, 5)\n",
    "\n",
    "convnet = conv_2d(convnet, 32, 5, activation='relu')\n",
    "convnet = max_pool_2d(convnet, 5)\n",
    "\n",
    "convnet = conv_2d(convnet, 64, 5, activation='relu')\n",
    "convnet = max_pool_2d(convnet, 5)\n",
    "\n",
    "convnet = conv_2d(convnet, 32, 5, activation='relu')\n",
    "convnet = max_pool_2d(convnet, 5)\n",
    "\n",
    "convnet = conv_2d(convnet, 64, 5, activation='relu')\n",
    "convnet = max_pool_2d(convnet, 5)\n",
    "\n",
    "convnet = fully_connected(convnet, 1024, activation='relu')\n",
    "convnet = dropout(convnet, 0.8)\n",
    "\n",
    "convnet = fully_connected(convnet, 3, activation='softmax')\n",
    "convnet = regression(convnet, optimizer='adam', learning_rate=LR, loss='categorical_crossentropy', name='targets')\n",
    "\n",
    "model = tflearn.DNN(convnet, tensorboard_dir='log')\n",
    "\n",
    "\n",
    "if os.path.exists('{}.meta'.format(MODEL_NAME)):\n",
    "    model.load(MODEL_NAME)\n",
    "    print('model loaded!')\n",
    "    \n",
    "train = train_data[:-150]\n",
    "test = train_data[-150:]\n",
    "\n",
    "X = np.array([i[0] for i in train]).reshape(-1,IMG_SIZE,IMG_SIZE,1)\n",
    "Y = [i[1] for i in train]\n",
    "\n",
    "test_x = np.array([i[0] for i in test]).reshape(-1,IMG_SIZE,IMG_SIZE,1)\n",
    "test_y = [i[1] for i in test]\n",
    "\n",
    "model.fit({'input': X}, {'targets': Y}, n_epoch=10, validation_set=({'input': test_x}, {'targets': test_y}), \n",
    "    snapshot_step=100, show_metric=True, run_id=MODEL_NAME)"
   ]
  },
  {
   "cell_type": "code",
   "execution_count": 7,
   "metadata": {},
   "outputs": [
    {
     "name": "stderr",
     "output_type": "stream",
     "text": [
      "100%|██████████| 24/24 [00:00<00:00, 505.98it/s]\n"
     ]
    },
    {
     "name": "stdout",
     "output_type": "stream",
     "text": [
      "Arg max: 1\n",
      "Image number= 1\n",
      "Probabilities: [  4.35887390e-15   1.00000000e+00   5.07741689e-13]\n",
      "Arg max: 2\n",
      "Image number= 17\n",
      "Probabilities: [  3.92572031e-15   6.98095892e-14   1.00000000e+00]\n",
      "Arg max: 1\n",
      "Image number= 9\n",
      "Probabilities: [  5.24998644e-16   1.00000000e+00   6.04065206e-14]\n",
      "Arg max: 2\n",
      "Image number= 18\n",
      "Probabilities: [  2.01747680e-14   3.21627978e-13   1.00000000e+00]\n",
      "Arg max: 0\n",
      "Image number= 13\n",
      "Probabilities: [  1.00000000e+00   1.17927959e-11   2.85762886e-10]\n",
      "Arg max: 0\n",
      "Image number= 14\n",
      "Probabilities: [  1.00000000e+00   2.00064119e-12   5.45808433e-11]\n"
     ]
    },
    {
     "data": {
      "image/png": "[encoded data removed]",
      "text/plain": [
       "<matplotlib.figure.Figure at 0x7f8229d0f860>"
      ]
     },
     "metadata": {},
     "output_type": "display_data"
    }
   ],
   "source": [
    "#if you need to create the data:\n",
    "test_data = process_test_data()\n",
    "# if you already have some saved:\n",
    "#test_data = np.load('test_data.npy')\n",
    "\n",
    "fig=plt.figure()\n",
    "\n",
    "for num  ,data in enumerate(test_data[:6]):\n",
    "  \n",
    "    \n",
    "    img_num = data[1]\n",
    "    img_data = data[0]\n",
    "    \n",
    "    y = fig.add_subplot(2,3,num+1)\n",
    "    orig = img_data\n",
    "    data = img_data.reshape(IMG_SIZE,IMG_SIZE,1)\n",
    "    \n",
    "    #model_out = model.predict([data])[0]\n",
    "    model_out = model.predict([data])[0]\n",
    "    print('Arg max:', np.argmax(model_out))\n",
    "    print('Image number=', img_num)\n",
    "    if np.argmax(model_out) == 2: str_label='brain'\n",
    "    elif np.argmax(model_out) == 1: str_label='colon'\n",
    "    else: str_label='lymph'\n",
    "    print('Probabilities:', model_out)   \n",
    "    \n",
    "    y.imshow(orig,cmap='gray')\n",
    "    plt.title(str_label)\n",
    "    y.axes.get_xaxis().set_visible(False)\n",
    "    y.axes.get_yaxis().set_visible(False)\n",
    "plt.show()"
   ]
  }
 ],
 "metadata": {
  "kernelspec": {
   "display_name": "Python 3",
   "language": "python",
   "name": "python3"
  },
  "language_info": {
   "codemirror_mode": {
    "name": "ipython",
    "version": 3
   },
   "file_extension": ".py",
   "mimetype": "text/x-python",
   "name": "python",
   "nbconvert_exporter": "python",
   "pygments_lexer": "ipython3",
   "version": "3.6.1"
  }
 },
 "nbformat": 4,
 "nbformat_minor": 2
}
