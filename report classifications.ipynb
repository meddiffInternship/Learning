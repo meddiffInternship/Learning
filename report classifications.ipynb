{
 "cells": [
  {
   "cell_type": "code",
   "execution_count": 1,
   "metadata": {},
   "outputs": [],
   "source": [
    "import nltk\n",
    "import math\n",
    "import string\n",
    "from collections import Counter\n",
    "import os\n",
    "import glob\n",
    "from string import digits\n",
    "from math import log\n",
    "from pandas import DataFrame\n",
    "import pandas as pd\n",
    "import numpy\n",
    "import re\n",
    "from textblob import TextBlob"
   ]
  },
  {
   "cell_type": "code",
   "execution_count": 2,
   "metadata": {},
   "outputs": [
    {
     "name": "stderr",
     "output_type": "stream",
     "text": [
      "/home/aayushi/anaconda3/lib/python3.6/site-packages/sklearn/cross_validation.py:44: DeprecationWarning: This module was deprecated in version 0.18 in favor of the model_selection module into which all the refactored classes and functions are moved. Also note that the interface of the new CV iterators are different from that of this module. This module will be removed in 0.20.\n",
      "  \"This module will be removed in 0.20.\", DeprecationWarning)\n"
     ]
    }
   ],
   "source": [
    "#from nltk.corpus import stopwords\n",
    "from nltk.stem import *\n",
    "from nltk.stem.porter import *\n",
    "from sklearn.feature_extraction.text import TfidfVectorizer\n",
    "from sklearn.feature_extraction.text import CountVectorizer\n",
    "from sklearn.feature_extraction.text import TfidfTransformer\n",
    "from sklearn.pipeline import Pipeline\n",
    "from sklearn.naive_bayes import MultinomialNB\n",
    "from sklearn.cross_validation import train_test_split\n",
    "from sklearn.metrics import classification_report, f1_score, accuracy_score, confusion_matrix"
   ]
  },
  {
   "cell_type": "code",
   "execution_count": 3,
   "metadata": {},
   "outputs": [],
   "source": [
    "import matplotlib.pyplot as plt\n",
    "import seaborn as sns\n",
    "\n",
    "%matplotlib inline"
   ]
  },
  {
   "cell_type": "code",
   "execution_count": 4,
   "metadata": {
    "collapsed": true
   },
   "outputs": [],
   "source": [
    "with open('/home/aayushi/english.txt','r') as sw:\n",
    "    stopwords = sw.read().splitlines()"
   ]
  },
  {
   "cell_type": "code",
   "execution_count": 5,
   "metadata": {},
   "outputs": [],
   "source": [
    "def text_process(mess):\n",
    "    \"\"\"\n",
    "    Takes in a string of text, then performs the following:\n",
    "    1. Remove all punctuation\n",
    "    2. Remove numbers\n",
    "    3. Remove all stopwords\n",
    "    4. Returns a list of the cleaned text\n",
    "    \"\"\"\n",
    "    \n",
    "    result = [i for i in mess if not i.isdigit()]\n",
    "    \n",
    "    # Check characters to see if they are in punctuation\n",
    "    nopunc = [char for char in result if char not in string.punctuation]\n",
    "\n",
    "    # Join the characters again to form the string.\n",
    "    nopunc = ''.join(nopunc)\n",
    "    \n",
    "    # Now just remove any stopwords\n",
    "    return [word for word in nopunc.split() if word.lower() not in stopwords]"
   ]
  },
  {
   "cell_type": "code",
   "execution_count": 6,
   "metadata": {
    "collapsed": true
   },
   "outputs": [],
   "source": [
    "def split_into_lemmas(message):\n",
    "    message = str(message).lower()\n",
    "    words = TextBlob(message).words\n",
    "    # for each word, take its \"base form\" = lemma \n",
    "    return [word.lemma for word in words]\n",
    "\n",
    "#messages.message.head().apply(split_into_lemmas)\n",
    "#corpus.head().apply(split_into_lemmas)"
   ]
  },
  {
   "cell_type": "code",
   "execution_count": 7,
   "metadata": {
    "collapsed": true
   },
   "outputs": [],
   "source": [
    "def init_lists(folder):\n",
    "    a_list = []\n",
    "    file_list = os.listdir(folder)\n",
    "    for a_file in file_list:\n",
    "        f = open(folder + a_file, 'r')\n",
    "        a_list.append(f.read())\n",
    "    f.close()\n",
    "    return a_list"
   ]
  },
  {
   "cell_type": "code",
   "execution_count": 8,
   "metadata": {},
   "outputs": [],
   "source": [
    "mri_var = init_lists('/home/aayushi/Downloads/reports/mri/')\n",
    "xray_var = init_lists('/home/aayushi/Downloads/reports/x-ray/')"
   ]
  },
  {
   "cell_type": "code",
   "execution_count": 9,
   "metadata": {},
   "outputs": [],
   "source": [
    "all_docs = [(i, 'mri') for i in mri_var]\n",
    "all_docs += [(i, 'xray') for i in xray_var]"
   ]
  },
  {
   "cell_type": "code",
   "execution_count": 10,
   "metadata": {},
   "outputs": [
    {
     "name": "stdout",
     "output_type": "stream",
     "text": [
      "6\n"
     ]
    }
   ],
   "source": [
    "print(len(all_docs))"
   ]
  },
  {
   "cell_type": "code",
   "execution_count": 11,
   "metadata": {
    "collapsed": true
   },
   "outputs": [],
   "source": [
    "corpus = pd.DataFrame(all_docs, columns=['contents', 'labels'])"
   ]
  },
  {
   "cell_type": "code",
   "execution_count": 12,
   "metadata": {},
   "outputs": [
    {
     "data": {
      "text/html": [
       "<div>\n",
       "<style>\n",
       "    .dataframe thead tr:only-child th {\n",
       "        text-align: right;\n",
       "    }\n",
       "\n",
       "    .dataframe thead th {\n",
       "        text-align: left;\n",
       "    }\n",
       "\n",
       "    .dataframe tbody tr th {\n",
       "        vertical-align: top;\n",
       "    }\n",
       "</style>\n",
       "<table border=\"1\" class=\"dataframe\">\n",
       "  <thead>\n",
       "    <tr style=\"text-align: right;\">\n",
       "      <th></th>\n",
       "      <th>contents</th>\n",
       "      <th>labels</th>\n",
       "    </tr>\n",
       "  </thead>\n",
       "  <tbody>\n",
       "    <tr>\n",
       "      <th>1</th>\n",
       "      <td>\\nUSARad.com\\n300 Barr Harbor Drive, Suite 280...</td>\n",
       "      <td>mri</td>\n",
       "    </tr>\n",
       "    <tr>\n",
       "      <th>5</th>\n",
       "      <td>xMRI - Second Opinions On Demand(tm)\\n309 Fell...</td>\n",
       "      <td>xray</td>\n",
       "    </tr>\n",
       "    <tr>\n",
       "      <th>0</th>\n",
       "      <td>\\nPatient: DOE, JOHN\\nExam Date:\\n05/20/2010\\n...</td>\n",
       "      <td>mri</td>\n",
       "    </tr>\n",
       "    <tr>\n",
       "      <th>4</th>\n",
       "      <td>xMRI - Second Opinions On Demand(tm)\\n309 Fell...</td>\n",
       "      <td>xray</td>\n",
       "    </tr>\n",
       "    <tr>\n",
       "      <th>3</th>\n",
       "      <td>\\nUSARad.com\\n300 Barr Harbor Drive, Suite 280...</td>\n",
       "      <td>mri</td>\n",
       "    </tr>\n",
       "  </tbody>\n",
       "</table>\n",
       "</div>"
      ],
      "text/plain": [
       "                                            contents labels\n",
       "1  \\nUSARad.com\\n300 Barr Harbor Drive, Suite 280...    mri\n",
       "5  xMRI - Second Opinions On Demand(tm)\\n309 Fell...   xray\n",
       "0  \\nPatient: DOE, JOHN\\nExam Date:\\n05/20/2010\\n...    mri\n",
       "4  xMRI - Second Opinions On Demand(tm)\\n309 Fell...   xray\n",
       "3  \\nUSARad.com\\n300 Barr Harbor Drive, Suite 280...    mri"
      ]
     },
     "execution_count": 12,
     "metadata": {},
     "output_type": "execute_result"
    }
   ],
   "source": [
    "#Shuffle the code\n",
    "corpus = corpus.reindex(numpy.random.permutation(corpus.index))\n",
    "corpus.head()"
   ]
  },
  {
   "cell_type": "code",
   "execution_count": 13,
   "metadata": {
    "collapsed": true
   },
   "outputs": [],
   "source": [
    "corpus_lemma = pd.DataFrame(all_docs, columns=['contents', 'labels'])"
   ]
  },
  {
   "cell_type": "code",
   "execution_count": 14,
   "metadata": {},
   "outputs": [
    {
     "data": {
      "text/html": [
       "<div>\n",
       "<style>\n",
       "    .dataframe thead tr:only-child th {\n",
       "        text-align: right;\n",
       "    }\n",
       "\n",
       "    .dataframe thead th {\n",
       "        text-align: left;\n",
       "    }\n",
       "\n",
       "    .dataframe tbody tr th {\n",
       "        vertical-align: top;\n",
       "    }\n",
       "</style>\n",
       "<table border=\"1\" class=\"dataframe\">\n",
       "  <thead>\n",
       "    <tr style=\"text-align: right;\">\n",
       "      <th></th>\n",
       "      <th>contents</th>\n",
       "      <th>labels</th>\n",
       "    </tr>\n",
       "  </thead>\n",
       "  <tbody>\n",
       "    <tr>\n",
       "      <th>1</th>\n",
       "      <td>\\nUSARad.com\\n300 Barr Harbor Drive, Suite 280...</td>\n",
       "      <td>mri</td>\n",
       "    </tr>\n",
       "    <tr>\n",
       "      <th>5</th>\n",
       "      <td>xMRI - Second Opinions On Demand(tm)\\n309 Fell...</td>\n",
       "      <td>xray</td>\n",
       "    </tr>\n",
       "    <tr>\n",
       "      <th>0</th>\n",
       "      <td>\\nPatient: DOE, JOHN\\nExam Date:\\n05/20/2010\\n...</td>\n",
       "      <td>mri</td>\n",
       "    </tr>\n",
       "    <tr>\n",
       "      <th>4</th>\n",
       "      <td>xMRI - Second Opinions On Demand(tm)\\n309 Fell...</td>\n",
       "      <td>xray</td>\n",
       "    </tr>\n",
       "    <tr>\n",
       "      <th>3</th>\n",
       "      <td>\\nUSARad.com\\n300 Barr Harbor Drive, Suite 280...</td>\n",
       "      <td>mri</td>\n",
       "    </tr>\n",
       "  </tbody>\n",
       "</table>\n",
       "</div>"
      ],
      "text/plain": [
       "                                            contents labels\n",
       "1  \\nUSARad.com\\n300 Barr Harbor Drive, Suite 280...    mri\n",
       "5  xMRI - Second Opinions On Demand(tm)\\n309 Fell...   xray\n",
       "0  \\nPatient: DOE, JOHN\\nExam Date:\\n05/20/2010\\n...    mri\n",
       "4  xMRI - Second Opinions On Demand(tm)\\n309 Fell...   xray\n",
       "3  \\nUSARad.com\\n300 Barr Harbor Drive, Suite 280...    mri"
      ]
     },
     "execution_count": 14,
     "metadata": {},
     "output_type": "execute_result"
    }
   ],
   "source": [
    "corpus.head()"
   ]
  },
  {
   "cell_type": "code",
   "execution_count": 15,
   "metadata": {},
   "outputs": [
    {
     "data": {
      "text/html": [
       "<div>\n",
       "<style>\n",
       "    .dataframe thead tr:only-child th {\n",
       "        text-align: right;\n",
       "    }\n",
       "\n",
       "    .dataframe thead th {\n",
       "        text-align: left;\n",
       "    }\n",
       "\n",
       "    .dataframe tbody tr th {\n",
       "        vertical-align: top;\n",
       "    }\n",
       "</style>\n",
       "<table border=\"1\" class=\"dataframe\">\n",
       "  <thead>\n",
       "    <tr style=\"text-align: right;\">\n",
       "      <th></th>\n",
       "      <th>contents</th>\n",
       "      <th>labels</th>\n",
       "    </tr>\n",
       "  </thead>\n",
       "  <tbody>\n",
       "    <tr>\n",
       "      <th>count</th>\n",
       "      <td>6</td>\n",
       "      <td>6</td>\n",
       "    </tr>\n",
       "    <tr>\n",
       "      <th>unique</th>\n",
       "      <td>6</td>\n",
       "      <td>2</td>\n",
       "    </tr>\n",
       "    <tr>\n",
       "      <th>top</th>\n",
       "      <td>\\nUSARad.com\\n300 Barr Harbor Drive, Suite 280...</td>\n",
       "      <td>mri</td>\n",
       "    </tr>\n",
       "    <tr>\n",
       "      <th>freq</th>\n",
       "      <td>1</td>\n",
       "      <td>4</td>\n",
       "    </tr>\n",
       "  </tbody>\n",
       "</table>\n",
       "</div>"
      ],
      "text/plain": [
       "                                                 contents labels\n",
       "count                                                   6      6\n",
       "unique                                                  6      2\n",
       "top     \\nUSARad.com\\n300 Barr Harbor Drive, Suite 280...    mri\n",
       "freq                                                    1      4"
      ]
     },
     "execution_count": 15,
     "metadata": {},
     "output_type": "execute_result"
    }
   ],
   "source": [
    "corpus.describe()"
   ]
  },
  {
   "cell_type": "code",
   "execution_count": 16,
   "metadata": {},
   "outputs": [
    {
     "data": {
      "text/html": [
       "<div>\n",
       "<style>\n",
       "    .dataframe thead tr:only-child th {\n",
       "        text-align: right;\n",
       "    }\n",
       "\n",
       "    .dataframe thead th {\n",
       "        text-align: left;\n",
       "    }\n",
       "\n",
       "    .dataframe tbody tr th {\n",
       "        vertical-align: top;\n",
       "    }\n",
       "</style>\n",
       "<table border=\"1\" class=\"dataframe\">\n",
       "  <thead>\n",
       "    <tr>\n",
       "      <th></th>\n",
       "      <th colspan=\"4\" halign=\"left\">contents</th>\n",
       "    </tr>\n",
       "    <tr>\n",
       "      <th></th>\n",
       "      <th>count</th>\n",
       "      <th>unique</th>\n",
       "      <th>top</th>\n",
       "      <th>freq</th>\n",
       "    </tr>\n",
       "    <tr>\n",
       "      <th>labels</th>\n",
       "      <th></th>\n",
       "      <th></th>\n",
       "      <th></th>\n",
       "      <th></th>\n",
       "    </tr>\n",
       "  </thead>\n",
       "  <tbody>\n",
       "    <tr>\n",
       "      <th>mri</th>\n",
       "      <td>4</td>\n",
       "      <td>4</td>\n",
       "      <td>\\nUSARad.com\\n300 Barr Harbor Drive, Suite 280...</td>\n",
       "      <td>1</td>\n",
       "    </tr>\n",
       "    <tr>\n",
       "      <th>xray</th>\n",
       "      <td>2</td>\n",
       "      <td>2</td>\n",
       "      <td>xMRI - Second Opinions On Demand(tm)\\n309 Fell...</td>\n",
       "      <td>1</td>\n",
       "    </tr>\n",
       "  </tbody>\n",
       "</table>\n",
       "</div>"
      ],
      "text/plain": [
       "       contents                                                               \n",
       "          count unique                                                top freq\n",
       "labels                                                                        \n",
       "mri           4      4  \\nUSARad.com\\n300 Barr Harbor Drive, Suite 280...    1\n",
       "xray          2      2  xMRI - Second Opinions On Demand(tm)\\n309 Fell...    1"
      ]
     },
     "execution_count": 16,
     "metadata": {},
     "output_type": "execute_result"
    }
   ],
   "source": [
    "corpus.groupby('labels').describe()"
   ]
  },
  {
   "cell_type": "code",
   "execution_count": 50,
   "metadata": {},
   "outputs": [],
   "source": [
    "corpus['length']=corpus['contents'].apply(len)"
   ]
  },
  {
   "cell_type": "code",
   "execution_count": 19,
   "metadata": {},
   "outputs": [
    {
     "data": {
      "text/plain": [
       "count       6.000000\n",
       "mean     2058.500000\n",
       "std      1050.971503\n",
       "min      1024.000000\n",
       "25%      1337.250000\n",
       "50%      1966.000000\n",
       "75%      2231.000000\n",
       "max      3948.000000\n",
       "Name: length, dtype: float64"
      ]
     },
     "execution_count": 19,
     "metadata": {},
     "output_type": "execute_result"
    }
   ],
   "source": [
    "corpus.length.describe()"
   ]
  },
  {
   "cell_type": "code",
   "execution_count": 21,
   "metadata": {},
   "outputs": [
    {
     "data": {
      "text/html": [
       "<div>\n",
       "<style>\n",
       "    .dataframe thead tr:only-child th {\n",
       "        text-align: right;\n",
       "    }\n",
       "\n",
       "    .dataframe thead th {\n",
       "        text-align: left;\n",
       "    }\n",
       "\n",
       "    .dataframe tbody tr th {\n",
       "        vertical-align: top;\n",
       "    }\n",
       "</style>\n",
       "<table border=\"1\" class=\"dataframe\">\n",
       "  <thead>\n",
       "    <tr style=\"text-align: right;\">\n",
       "      <th></th>\n",
       "      <th>contents</th>\n",
       "      <th>labels</th>\n",
       "      <th>length</th>\n",
       "    </tr>\n",
       "  </thead>\n",
       "  <tbody>\n",
       "    <tr>\n",
       "      <th>1</th>\n",
       "      <td>\\nUSARad.com\\n300 Barr Harbor Drive, Suite 280...</td>\n",
       "      <td>mri</td>\n",
       "      <td>1815</td>\n",
       "    </tr>\n",
       "    <tr>\n",
       "      <th>5</th>\n",
       "      <td>xMRI - Second Opinions On Demand(tm)\\n309 Fell...</td>\n",
       "      <td>xray</td>\n",
       "      <td>1178</td>\n",
       "    </tr>\n",
       "    <tr>\n",
       "      <th>0</th>\n",
       "      <td>\\nPatient: DOE, JOHN\\nExam Date:\\n05/20/2010\\n...</td>\n",
       "      <td>mri</td>\n",
       "      <td>3948</td>\n",
       "    </tr>\n",
       "    <tr>\n",
       "      <th>4</th>\n",
       "      <td>xMRI - Second Opinions On Demand(tm)\\n309 Fell...</td>\n",
       "      <td>xray</td>\n",
       "      <td>1024</td>\n",
       "    </tr>\n",
       "    <tr>\n",
       "      <th>3</th>\n",
       "      <td>\\nUSARad.com\\n300 Barr Harbor Drive, Suite 280...</td>\n",
       "      <td>mri</td>\n",
       "      <td>2117</td>\n",
       "    </tr>\n",
       "  </tbody>\n",
       "</table>\n",
       "</div>"
      ],
      "text/plain": [
       "                                            contents labels  length\n",
       "1  \\nUSARad.com\\n300 Barr Harbor Drive, Suite 280...    mri    1815\n",
       "5  xMRI - Second Opinions On Demand(tm)\\n309 Fell...   xray    1178\n",
       "0  \\nPatient: DOE, JOHN\\nExam Date:\\n05/20/2010\\n...    mri    3948\n",
       "4  xMRI - Second Opinions On Demand(tm)\\n309 Fell...   xray    1024\n",
       "3  \\nUSARad.com\\n300 Barr Harbor Drive, Suite 280...    mri    2117"
      ]
     },
     "execution_count": 21,
     "metadata": {},
     "output_type": "execute_result"
    }
   ],
   "source": [
    "corpus.head()"
   ]
  },
  {
   "cell_type": "code",
   "execution_count": 22,
   "metadata": {},
   "outputs": [
    {
     "name": "stdout",
     "output_type": "stream",
     "text": [
      "515\n"
     ]
    }
   ],
   "source": [
    "bow_transformer = CountVectorizer(analyzer=split_into_lemmas).fit(corpus['contents'])\n",
    "\n",
    "# Print total number of vocabulary words\n",
    "print (len(bow_transformer.vocabulary_))"
   ]
  },
  {
   "cell_type": "code",
   "execution_count": 23,
   "metadata": {},
   "outputs": [
    {
     "name": "stdout",
     "output_type": "stream",
     "text": [
      "{'usarad.com': 491, '300': 23, 'barr': 73, 'harbor': 221, 'drive': 167, 'suite': 453, '280': 21, 'west': 503, 'conshohocken': 119, 'pa': 355, '19428': 17, 'phone': 372, '888.886.5238': 37, 'fax': 192, '888.886.5221': 36, 'patient': 365, 'doe': 164, 'john': 259, 'exam': 182, 'date': 138, '06/05/2010': 6, 'mrn': 318, 'jd4usarad': 258, 'dob': 162, '01/01/1961': 2, 'referring': 402, 'physician': 373, 'dr': 166, 'david': 139, 'livesey': 285, '305': 24, '418-8166': 29, 'mri': 317, 'of': 343, 'the': 475, 'brain': 85, 'without': 509, 'contrast': 124, 'history': 225, 'headache': 222, 'sequence': 422, 'sagittal': 416, 'flair': 198, 'and': 54, 'coronal': 129, 't2-weighted': 466, 'image': 232, 'are': 63, 'supplemented': 457, 'by': 92, 'axial': 71, 't1': 464, 't2': 465, 'there': 477, 'is': 253, 'diffuse': 154, 'dilatation': 155, 'sulcus': 454, 'ventricle': 495, 'more': 314, 'than': 473, 'one': 346, 'would': 512, 'expect': 184, 'for': 204, 'a': 38, 'this': 480, 'age': 48, 'group': 219, 'ha': 220, 'been': 76, 'extensive': 185, 'tissue': 484, 'loss': 288, 'in': 235, 'right': 410, 'cerebral': 101, 'hemisphere': 224, 'due': 168, 'to': 486, 'an': 53, 'old': 344, 'insult': 243, 'presumably': 384, 'ischemic': 254, 'event': 179, 'primarily': 387, 'involves': 251, 'temporal/occipital': 469, 'region': 403, 'associated': 66, 'with': 507, 'obvious': 342, 'ex': 181, 'vacuo': 493, 'prominence': 391, 'lateral': 274, 'wallerian': 501, 'degeneration': 145, 'corticospinal': 132, 'tracts/cerebral': 487, 'peduncle': 366, 'further': 212, 'corroboration': 131, 'that': 474, 'no': 334, 'previous': 386, 'study': 448, 'made': 292, 'available': 70, 'review': 409, 'few': 195, 'focal': 200, 'defect': 142, 'identified': 230, 'periventricular': 370, 'white': 505, 'matter': 298, 'bilaterally': 80, 'these': 478, 'likely': 282, 'some': 434, 'superimposed': 455, 'small': 432, 'vessel': 497, 'change': 103, 'rather': 399, 'demyelinating': 150, 'condition': 118, 'evidence': 180, 'within': 508, 'brainstem': 86, 'at': 68, 'any': 58, 'level': 279, 'orbit': 350, 'unremarkable': 489, 'impression': 234, '1': 10, '2': 19, 'subtle': 451, 'probably': 389, 'disease': 159, '3': 22, 'such': 452, 'time': 483, 'becomes': 75, 'addendum': 44, 'will': 506, 'be': 74, 'issued': 255, 'electronically': 172, 'signed': 429, 'radiologist': 398, 'admin': 45, 'on': 345, '3:45:15': 26, 'pm': 375, 'page': 356, 'xmri': 514, 'second': 419, 'opinion': 348, 'demand': 148, 'tm': 485, '309': 25, 'fellowship': 193, 'road': 411, '200': 20, 'mt': 319, 'laurel': 275, 'nj': 333, '08054': 9, '888-733-9674': 34, '888-886-2486': 35, 'm': 291, '12/27/2013': 15, 'jd1004': 257, '07/08/1987': 8, 'location': 286, 'room': 412, 'cr': 133, 'cervical': 102, 'spine': 439, 'or': 349, 'view': 498, 'clinical': 106, 'neck': 328, 'pain': 357, 'comment': 109, 'ap': 59, 'open': 347, 'mouth': 316, 'show': 426, 'spondylolisthesis': 440, 'visualization': 499, 'vertebral': 496, 'body': 82, 'soft': 433, 'structure': 447, 'intact': 244, 'mild': 306, 'compression': 117, 'deformity': 144, 'noted': 341, 'involving': 252, 'straightening': 446, 'normal': 338, 'lordosis': 287, 'seen': 420, 'compatible': 113, 'muscular': 325, 'spasm': 437, 'moderate': 312, 'multilevel': 322, 'degenerative': 146, 'demonstrated': 149, 'osteophytosis': 352, 'endplate': 175, 'sclerosis': 418, 'disk': 160, 'space': 435, 'height': 223, 'several': 423, 'above': 40, 'severe': 424, 'most': 315, 'prominent': 392, 'c5-c6': 95, '12/30/2013': 16, '11:15:32': 14, 'am': 51, '05/20/2010': 3, 'lumbar': 289, 'procedure': 390, 'lumbosacral': 290, 'without/with': 510, 'iv': 256, 'indication': 240, 'radiculopathy': 397, 'post': 378, 'l2-l3': 265, 'fusion': 213, 'question': 396, 'incomplete': 238, 'persistent': 371, 'symptom': 462, 'comparison': 110, 'none': 336, 'technique': 468, 'multiplanar': 323, 'multi-sequence': 321, 'imaging': 233, 'intravenous': 250, 'using': 492, '0.3t': 1, 'scanner': 417, 'finding': 197, 'postoperative': 380, 'posterior': 379, 'intrapedicular': 249, 'spinal': 438, 'preserved': 383, 'enhancing': 177, 'peridural': 368, 'fibrosis': 196, 'mildly': 309, 'deforming': 143, 'thecal': 476, 'sac': 414, 'dominant': 165, 'extrinsic': 188, 'non': 335, 'cystic': 137, 'focus': 201, 'along': 50, 'element': 173, 'representing': 405, 'pseudomeningoceles': 394, 'laminectomy': 272, 'l4-l5': 269, 'osseous': 351, 'anteriorly': 57, 'hypertrophy': 229, 'l4': 268, 'l5': 270, 'decreased': 140, 'facet': 189, 'conus': 127, 'medullaris': 302, 'terminates': 472, 'approximately': 62, 'mid': 305, 'l1': 262, 'l1-l2': 263, 'broad-based': 87, 'disc': 157, 'bulging': 88, 'contributing': 125, 'left': 276, 'greater': 216, 'neuroforamina': 332, 'narrowing': 327, 'canal': 98, 'grossly': 218, 'patent': 363, 'mm': 311, 'l2': 264, 'retrolisthesis': 408, 'nonenhancing': 337, 'bi': 78, 'foraminal': 206, 'mild-to': 307, 'neural': 331, 'foramen': 205, 'acquired': 42, 'stenosis': 444, 'asymmetric': 67, 'ventral': 494, 'negligible': 329, 'l3': 266, 'l3-l4': 267, 'desiccation': 152, 'extraforaminal': 187, 'annular': 55, 'tear': 467, 'both': 84, 'side': 427, 'partial': 360, 'linear': 283, 'hyper': 227, 'intense': 245, 'signal': 428, 'remaining': 404, 'intervertebral': 247, 'gross': 217, 'bilateral': 79, 'l5-s1': 271, 'central': 100, 'protrusion': 393, 'ferromagnetic': 194, 'susceptibility': 460, 'artifact': 65, 'back': 72, 'spanning': 436, 'from': 210, 'through': 481, 's2': 413, 'suspicious': 461, 'prevertebral': 385, 'paraspinal': 359, 'abnormality': 39, 'subchondral': 449, 'included': 237, 'sacroiliac': 415, 'joint': 260, 'incidental': 236, 'note': 340, 'overdistended': 354, 'bladder': 81, 'mild-to-moderate': 308, 'stability': 442, 'can': 97, 'not': 339, 'determined': 153, 'absence': 41, 'prior': 388, 'comparison/correlation': 111, 'correlation': 130, 'advised': 47, 'document': 163, 'described': 151, '06/07/2010': 7, '1:22:01': 18, 'knee': 261, 'complete': 114, '4': 28, 'tricompartmental': 488, 'marked': 294, 'significant': 430, 'medial': 301, 'compartment': 112, 'degree': 147, 'large': 273, 'suprapatellar': 458, 'effusion': 171, 'fracture': 208, 'dislocation': 161, 'chondrocalcinosis': 104, 'patella': 361, 'position': 377, 'appearance': 60, 'consider': 120, 'follow': 202, 'up': 490, '11:13:51': 13, '05/25/2010': 4, 'status': 443, 'work': 511, 'injury': 242, 'superior': 456, 'bone': 83, 'marrow': 296, 'edema': 169, 'tibial': 482, 'surrounding': 459, 'mucoid': 320, 'anterior': 56, 'cruciate': 135, 'ligament': 280, 'otherwise': 353, 'attenuation': 69, 'collateral': 108, 'major': 293, 'component': 116, 'complex': 115, 'contiguous': 122, 'popliteus': 376, 'tendon': 471, 'myxoid': 326, 'horn': 226, 'meniscus': 304, 'fraying': 209, 'peripheral': 369, 'acute': 43, 'meniscal': 303, 'patellar': 362, 'quadriceps': 395, 'tendinosis': 470, 'grade': 215, 'iii': 231, 'chrondromalacia': 105, 'plica': 374, 'pathologic': 364, 'minimal': 310, 'deep': 141, 'infrapatellar': 241, 'bursal': 90, 'fluid': 199, 'amount': 52, 'synovial': 463, 'recess': 401, 'subcutaneous': 450, 'pre': 381, 'bursitis': 91, 'semimembranosus': 421, 'gastrocnemius': 214, 'bursa': 89, 'pre-/infrapatellar': 382, 'sprain': 441, 'full': 211, 'thickness': 479, '5': 30, '6': 31, 'arthrosis': 64, 'reactive': 400, '7': 32, '8': 33, 'contusion': 126, '05/27/2010': 5, '10:01:35': 12, 'left-sided': 277, 'palpable': 358, 'mass': 297, 'month': 313, 'were': 502, 'performed': 367, 'administration': 46, 'skin': 431, 'marker': 295, 'c4/5': 94, 'alignment': 49, 'c2/3': 93, 'c5/6': 96, 'consistent': 121, 'shallow': 425, 'disc-osteophyte': 158, 'visualized': 500, 'cord': 128, 'fossa': 207, 'contour': 123, 'intra': 248, 'extradural': 186, 'lesion': 278, 'hyperintense': 228, 'encapsulated': 174, 'between': 77, 'sternocleidomastoid': 445, 'muscle': 324, 'carotid': 99, 'appreciable': 61, 'effect': 170, 'measure': 300, 'x': 513, '1.3': 11, 'cm': 107, 'craniocaudad': 134, 'dimension': 156, 'respectively': 407, 'follows': 203, 'fat': 190, 'intensity': 246, 'represents': 406, 'lipoma': 284, 'evaluation': 178, 'enhanced': 176, 'ct': 136, 'exclude': 183, 'which': 504, 'may': 299, 'indicate': 239, 'neoplasia': 330, 'fatty': 191, 'light': 281, \"'s\": 0, '3:48:25': 27}\n"
     ]
    }
   ],
   "source": [
    "print(bow_transformer.vocabulary_)"
   ]
  },
  {
   "cell_type": "code",
   "execution_count": 24,
   "metadata": {},
   "outputs": [
    {
     "name": "stdout",
     "output_type": "stream",
     "text": [
      "xMRI - Second Opinions On Demand(tm)\n",
      "309 Fellowship Road\n",
      "Suite 200\n",
      "Mt. Laurel, NJ  08054\n",
      "\n",
      "\n",
      "Phone: 888-733-9674\n",
      "Fax: 888-886-2486\n",
      "Patient: DOE, JOHN (M)\n",
      "Exam Date:\n",
      "12/27/2013\n",
      "MRN : JD1004\n",
      "DOB:\n",
      "07/08/1987\n",
      "Referring Physician: XMRI, SECOND OPINION\n",
      "FAX:\n",
      "888-886-2486\n",
      "\n",
      "\n",
      "\n",
      "\n",
      "CR OF THE LEFT KNEE COMPLETE 4 OR MORE VIEWS\n",
      "\n",
      "\n",
      "CLINICAL HISTORY: Knee pain. COMMENTS:\n",
      "Moderate to severe tricompartmental degenerative changes are noted, demonstrated by marked osteophytosis, endplate sclerosis and significant joint space narrowing, involving the medial compartment to the greater degree.\n",
      "\n",
      "Large suprapatellar joint effusion is noted.\n",
      "\n",
      "There is no fracture or dislocation. There is no chondrocalcinosis. The patella is normal in position and appearance.\n",
      "\n",
      "IMPRESSION:\n",
      "\n",
      "1. No fracture or dislocation.\n",
      "2. Moderate to severe tricompartmental degenerative changes.\n",
      "3. Large suprapatellar joint effusion.\n",
      "4. Consider follow up with MRI.\n",
      "\n",
      "\n",
      "\n",
      "\n",
      "-Electronically Signed by:\n",
      "\n",
      "\n",
      "RADIOLOGIST, ADMIN on\n",
      "\n",
      "\n",
      "12/30/2013 11:13:51 AM\n",
      "\n",
      "\n",
      "\n",
      "\n",
      "\n",
      "\n",
      "\n",
      "\n",
      "\n",
      "\n",
      "\n",
      "\n",
      "\n",
      "\n",
      "\n",
      "\n",
      "\n",
      "Page 1 of 1\n",
      "\n"
     ]
    }
   ],
   "source": [
    "content_4 = corpus['contents'][4]\n",
    "print (content_4)"
   ]
  },
  {
   "cell_type": "code",
   "execution_count": 25,
   "metadata": {},
   "outputs": [
    {
     "name": "stdout",
     "output_type": "stream",
     "text": [
      "1024\n"
     ]
    }
   ],
   "source": [
    "print(len(content_4))"
   ]
  },
  {
   "cell_type": "code",
   "execution_count": 26,
   "metadata": {},
   "outputs": [
    {
     "name": "stdout",
     "output_type": "stream",
     "text": [
      "  (0, 8)\t1\n",
      "  (0, 9)\t1\n",
      "  (0, 10)\t3\n",
      "  (0, 13)\t1\n",
      "  (0, 15)\t1\n",
      "  (0, 16)\t1\n",
      "  (0, 19)\t1\n",
      "  (0, 20)\t1\n",
      "  (0, 22)\t1\n",
      "  (0, 25)\t1\n",
      "  (0, 28)\t2\n",
      "  (0, 34)\t1\n",
      "  (0, 35)\t2\n",
      "  (0, 45)\t1\n",
      "  (0, 51)\t1\n",
      "  (0, 54)\t2\n",
      "  (0, 60)\t1\n",
      "  (0, 63)\t1\n",
      "  (0, 92)\t2\n",
      "  (0, 103)\t2\n",
      "  (0, 104)\t1\n",
      "  (0, 106)\t1\n",
      "  (0, 109)\t1\n",
      "  (0, 112)\t1\n",
      "  (0, 114)\t1\n",
      "  :\t:\n",
      "  (0, 361)\t1\n",
      "  (0, 365)\t1\n",
      "  (0, 372)\t1\n",
      "  (0, 373)\t1\n",
      "  (0, 377)\t1\n",
      "  (0, 398)\t1\n",
      "  (0, 402)\t1\n",
      "  (0, 411)\t1\n",
      "  (0, 418)\t1\n",
      "  (0, 419)\t2\n",
      "  (0, 424)\t2\n",
      "  (0, 429)\t1\n",
      "  (0, 430)\t1\n",
      "  (0, 435)\t1\n",
      "  (0, 453)\t1\n",
      "  (0, 458)\t2\n",
      "  (0, 475)\t4\n",
      "  (0, 477)\t2\n",
      "  (0, 485)\t1\n",
      "  (0, 486)\t3\n",
      "  (0, 488)\t2\n",
      "  (0, 490)\t1\n",
      "  (0, 498)\t1\n",
      "  (0, 507)\t1\n",
      "  (0, 514)\t2\n",
      "(1, 515)\n"
     ]
    }
   ],
   "source": [
    "#vector representation of the same content_3\n",
    "bow4 = bow_transformer.transform([content_4])\n",
    "print(bow4)\n",
    "print (bow4.shape)"
   ]
  },
  {
   "cell_type": "code",
   "execution_count": 27,
   "metadata": {},
   "outputs": [
    {
     "name": "stdout",
     "output_type": "stream",
     "text": [
      "to\n"
     ]
    }
   ],
   "source": [
    "print(bow_transformer.get_feature_names()[486])"
   ]
  },
  {
   "cell_type": "code",
   "execution_count": 28,
   "metadata": {
    "collapsed": true
   },
   "outputs": [],
   "source": [
    "corpus_bow = bow_transformer.transform(corpus['contents'])"
   ]
  },
  {
   "cell_type": "code",
   "execution_count": 29,
   "metadata": {},
   "outputs": [
    {
     "data": {
      "text/plain": [
       "<6x515 sparse matrix of type '<class 'numpy.int64'>'\n",
       "\twith 925 stored elements in Compressed Sparse Row format>"
      ]
     },
     "execution_count": 29,
     "metadata": {},
     "output_type": "execute_result"
    }
   ],
   "source": [
    "corpus_bow"
   ]
  },
  {
   "cell_type": "code",
   "execution_count": 30,
   "metadata": {},
   "outputs": [
    {
     "name": "stdout",
     "output_type": "stream",
     "text": [
      "Shape of Sparse Matrix:  (6, 515)\n",
      "Amount of Non-Zero occurences:  925\n"
     ]
    }
   ],
   "source": [
    "print('Shape of Sparse Matrix: ', corpus_bow.shape)\n",
    "print('Amount of Non-Zero occurences: ', corpus_bow.nnz)"
   ]
  },
  {
   "cell_type": "code",
   "execution_count": 31,
   "metadata": {},
   "outputs": [
    {
     "name": "stdout",
     "output_type": "stream",
     "text": [
      "sparsity: 30\n"
     ]
    }
   ],
   "source": [
    "sparsity = (100.0 * corpus_bow.nnz / (corpus_bow.shape[0] * corpus_bow.shape[1]))\n",
    "print('sparsity: {}'.format(round(sparsity)))"
   ]
  },
  {
   "cell_type": "code",
   "execution_count": 32,
   "metadata": {
    "collapsed": true
   },
   "outputs": [],
   "source": [
    "#TF-IDF\n",
    "tfidf_transformer = TfidfTransformer().fit(corpus_bow)"
   ]
  },
  {
   "cell_type": "code",
   "execution_count": 33,
   "metadata": {},
   "outputs": [
    {
     "name": "stdout",
     "output_type": "stream",
     "text": [
      "  (0, 514)\t0.157336272899\n",
      "  (0, 507)\t0.042585518089\n",
      "  (0, 498)\t0.0786681364493\n",
      "  (0, 490)\t0.0959350781451\n",
      "  (0, 488)\t0.19187015629\n",
      "  (0, 486)\t0.14745031396\n",
      "  (0, 485)\t0.0786681364493\n",
      "  (0, 477)\t0.113828725216\n",
      "  (0, 475)\t0.170342072356\n",
      "  (0, 458)\t0.157336272899\n",
      "  (0, 453)\t0.0491501046532\n",
      "  (0, 435)\t0.0569143626081\n",
      "  (0, 430)\t0.0959350781451\n",
      "  (0, 429)\t0.042585518089\n",
      "  (0, 424)\t0.157336272899\n",
      "  (0, 419)\t0.157336272899\n",
      "  (0, 418)\t0.066417046349\n",
      "  (0, 411)\t0.0786681364493\n",
      "  (0, 402)\t0.042585518089\n",
      "  (0, 398)\t0.042585518089\n",
      "  (0, 377)\t0.0959350781451\n",
      "  (0, 373)\t0.042585518089\n",
      "  (0, 372)\t0.0491501046532\n",
      "  (0, 365)\t0.042585518089\n",
      "  (0, 361)\t0.0786681364493\n",
      "  :\t:\n",
      "  (0, 114)\t0.0959350781451\n",
      "  (0, 112)\t0.0959350781451\n",
      "  (0, 109)\t0.0786681364493\n",
      "  (0, 106)\t0.066417046349\n",
      "  (0, 104)\t0.0959350781451\n",
      "  (0, 103)\t0.0983002093065\n",
      "  (0, 92)\t0.085171036178\n",
      "  (0, 63)\t0.042585518089\n",
      "  (0, 60)\t0.0959350781451\n",
      "  (0, 54)\t0.085171036178\n",
      "  (0, 51)\t0.0786681364493\n",
      "  (0, 45)\t0.042585518089\n",
      "  (0, 35)\t0.157336272899\n",
      "  (0, 34)\t0.0786681364493\n",
      "  (0, 28)\t0.132834092698\n",
      "  (0, 25)\t0.0786681364493\n",
      "  (0, 22)\t0.0491501046532\n",
      "  (0, 20)\t0.0786681364493\n",
      "  (0, 19)\t0.0491501046532\n",
      "  (0, 16)\t0.0786681364493\n",
      "  (0, 15)\t0.0786681364493\n",
      "  (0, 13)\t0.0959350781451\n",
      "  (0, 10)\t0.127756554267\n",
      "  (0, 9)\t0.0786681364493\n",
      "  (0, 8)\t0.0786681364493\n"
     ]
    }
   ],
   "source": [
    "tfidf4 = tfidf_transformer.transform(bow4)\n",
    "print(tfidf4)"
   ]
  },
  {
   "cell_type": "code",
   "execution_count": 34,
   "metadata": {},
   "outputs": [
    {
     "name": "stdout",
     "output_type": "stream",
     "text": [
      "1.33647223662\n"
     ]
    }
   ],
   "source": [
    "print(tfidf_transformer.idf_[bow_transformer.vocabulary_['spine']])"
   ]
  },
  {
   "cell_type": "code",
   "execution_count": 35,
   "metadata": {},
   "outputs": [
    {
     "name": "stdout",
     "output_type": "stream",
     "text": [
      "(6, 515)\n"
     ]
    }
   ],
   "source": [
    "# Corpus transformation\n",
    "corpus_tfidf = tfidf_transformer.transform(corpus_bow)\n",
    "print(corpus_tfidf.shape)"
   ]
  },
  {
   "cell_type": "code",
   "execution_count": 36,
   "metadata": {},
   "outputs": [
    {
     "name": "stdout",
     "output_type": "stream",
     "text": [
      "  (0, 512)\t0.053860072739\n",
      "  (0, 509)\t0.0319529807995\n",
      "  (0, 508)\t0.053860072739\n",
      "  (0, 507)\t0.0478169017266\n",
      "  (0, 506)\t0.053860072739\n",
      "  (0, 505)\t0.107720145478\n",
      "  (0, 503)\t0.0372879974315\n",
      "  (0, 501)\t0.107720145478\n",
      "  (0, 497)\t0.107720145478\n",
      "  (0, 495)\t0.161580218217\n",
      "  (0, 493)\t0.107720145478\n",
      "  (0, 491)\t0.0372879974315\n",
      "  (0, 489)\t0.044166030125\n",
      "  (0, 487)\t0.053860072739\n",
      "  (0, 486)\t0.0827818644526\n",
      "  (0, 484)\t0.0639059615989\n",
      "  (0, 483)\t0.053860072739\n",
      "  (0, 480)\t0.111863992295\n",
      "  (0, 478)\t0.053860072739\n",
      "  (0, 477)\t0.159764903997\n",
      "  (0, 475)\t0.21517605777\n",
      "  (0, 474)\t0.08833206025\n",
      "  (0, 473)\t0.08833206025\n",
      "  (0, 469)\t0.107720145478\n",
      "  (0, 466)\t0.044166030125\n",
      "  :\t:\n",
      "  (5, 63)\t0.150093638234\n",
      "  (5, 62)\t0.069316914192\n",
      "  (5, 61)\t0.0422656737526\n",
      "  (5, 59)\t0.034658457096\n",
      "  (5, 54)\t0.206378752572\n",
      "  (5, 53)\t0.138633828384\n",
      "  (5, 49)\t0.0422656737526\n",
      "  (5, 46)\t0.0422656737526\n",
      "  (5, 45)\t0.0187617047793\n",
      "  (5, 38)\t0.0250744975492\n",
      "  (5, 37)\t0.0292610509824\n",
      "  (5, 36)\t0.0292610509824\n",
      "  (5, 31)\t0.103975371288\n",
      "  (5, 29)\t0.0250744975492\n",
      "  (5, 28)\t0.0585221019647\n",
      "  (5, 27)\t0.0422656737526\n",
      "  (5, 24)\t0.0250744975492\n",
      "  (5, 23)\t0.0292610509824\n",
      "  (5, 21)\t0.0292610509824\n",
      "  (5, 17)\t0.0292610509824\n",
      "  (5, 11)\t0.0845313475052\n",
      "  (5, 10)\t0.0375234095586\n",
      "  (5, 6)\t0.069316914192\n",
      "  (5, 2)\t0.0250744975492\n",
      "  (5, 0)\t0.0422656737526\n"
     ]
    }
   ],
   "source": [
    "print(corpus_tfidf)"
   ]
  },
  {
   "cell_type": "code",
   "execution_count": 37,
   "metadata": {
    "collapsed": true
   },
   "outputs": [],
   "source": [
    "#Building a model\n",
    "\n",
    "doc_train, doc_test, label_train, label_test = \\\n",
    "train_test_split(corpus['contents'], corpus['labels'], test_size=0.3)"
   ]
  },
  {
   "cell_type": "code",
   "execution_count": 38,
   "metadata": {},
   "outputs": [
    {
     "name": "stdout",
     "output_type": "stream",
     "text": [
      "The training size is 70% of the entire dataset. Size of Training Set:  4\n",
      "The test size is 30% of the entire dataset. Size of Test Set:          2\n",
      "Total Size of the dataset:                                             6\n"
     ]
    }
   ],
   "source": [
    "print ('The training size is 70% of the entire dataset. Size of Training Set: ', len(doc_train))\n",
    "print ('The test size is 30% of the entire dataset. Size of Test Set:         ', len(doc_test))\n",
    "print ('Total Size of the dataset:                                            ', len(doc_train) + len(doc_test))"
   ]
  },
  {
   "cell_type": "code",
   "execution_count": 39,
   "metadata": {
    "collapsed": true
   },
   "outputs": [],
   "source": [
    "#Creating a Data Pipeline\n",
    "\n",
    "pipeline = Pipeline([\n",
    "    ('bow', CountVectorizer(analyzer=split_into_lemmas)),  # strings to token integer counts\n",
    "    ('tfidf', TfidfTransformer()),  # integer counts to weighted TF-IDF scores\n",
    "    ('classifier', MultinomialNB()),  # train on TF-IDF vectors w/ Naive Bayes classifier\n",
    "])"
   ]
  },
  {
   "cell_type": "code",
   "execution_count": 40,
   "metadata": {},
   "outputs": [
    {
     "data": {
      "text/plain": [
       "Pipeline(steps=[('bow', CountVectorizer(analyzer=<function split_into_lemmas at 0x7fb3eb069400>,\n",
       "        binary=False, decode_error='strict', dtype=<class 'numpy.int64'>,\n",
       "        encoding='utf-8', input='content', lowercase=True, max_df=1.0,\n",
       "        max_features=None, min_df=1, ngram_range=(1, 1), preprocess...f=False, use_idf=True)), ('classifier', MultinomialNB(alpha=1.0, class_prior=None, fit_prior=True))])"
      ]
     },
     "execution_count": 40,
     "metadata": {},
     "output_type": "execute_result"
    }
   ],
   "source": [
    "pipeline.fit(doc_train,label_train)"
   ]
  },
  {
   "cell_type": "code",
   "execution_count": 51,
   "metadata": {},
   "outputs": [
    {
     "name": "stdout",
     "output_type": "stream",
     "text": [
      "['mri' 'mri' 'mri' 'mri']\n"
     ]
    }
   ],
   "source": [
    "predictions = pipeline.predict(doc_train)"
   ]
  },
  {
   "cell_type": "code",
   "execution_count": 52,
   "metadata": {},
   "outputs": [
    {
     "name": "stdout",
     "output_type": "stream",
     "text": [
      "predicted: mri\n"
     ]
    }
   ],
   "source": [
    "print('predicted:', pipeline.predict(tfidf4)[0])"
   ]
  },
  {
   "cell_type": "code",
   "execution_count": 43,
   "metadata": {},
   "outputs": [
    {
     "name": "stdout",
     "output_type": "stream",
     "text": [
      "4\n"
     ]
    }
   ],
   "source": [
    "print(len(predictions))"
   ]
  },
  {
   "cell_type": "code",
   "execution_count": 44,
   "metadata": {},
   "outputs": [
    {
     "name": "stdout",
     "output_type": "stream",
     "text": [
      "accuracy 1.0\n",
      "confusion matrix\n",
      " [[2 0]\n",
      " [0 2]]\n",
      "(row=expected, col=predicted)\n"
     ]
    }
   ],
   "source": [
    "print ('accuracy', accuracy_score(label_train,predictions))\n",
    "print ('confusion matrix\\n', confusion_matrix(label_train,predictions))\n",
    "print ('(row=expected, col=predicted)')"
   ]
  },
  {
   "cell_type": "code",
   "execution_count": 45,
   "metadata": {},
   "outputs": [
    {
     "name": "stdout",
     "output_type": "stream",
     "text": [
      "             precision    recall  f1-score   support\n",
      "\n",
      "        mri       1.00      1.00      1.00         2\n",
      "       xray       1.00      1.00      1.00         2\n",
      "\n",
      "avg / total       1.00      1.00      1.00         4\n",
      "\n"
     ]
    }
   ],
   "source": [
    "print (classification_report(predictions,label_train))"
   ]
  },
  {
   "cell_type": "code",
   "execution_count": 46,
   "metadata": {},
   "outputs": [
    {
     "name": "stdout",
     "output_type": "stream",
     "text": [
      "2\n",
      "accuracy 1.0\n",
      "confusion matrix\n",
      " [[2]]\n",
      "(row=expected, col=predicted)\n"
     ]
    },
    {
     "name": "stderr",
     "output_type": "stream",
     "text": [
      "/home/aayushi/anaconda3/lib/python3.6/site-packages/sklearn/naive_bayes.py:455: RuntimeWarning: divide by zero encountered in log\n",
      "  self.class_log_prior_ = (np.log(self.class_count_) -\n"
     ]
    }
   ],
   "source": [
    "#For Test Set\n",
    "pipeline.fit(doc_test,label_test)\n",
    "predictions_testset = pipeline.predict(doc_test)\n",
    "print(len(predictions_testset))\n",
    "print ('accuracy', accuracy_score(label_test,predictions_testset))\n",
    "print ('confusion matrix\\n', confusion_matrix(label_test,predictions_testset))\n",
    "print ('(row=expected, col=predicted)')"
   ]
  },
  {
   "cell_type": "code",
   "execution_count": 47,
   "metadata": {},
   "outputs": [
    {
     "name": "stdout",
     "output_type": "stream",
     "text": [
      "             precision    recall  f1-score   support\n",
      "\n",
      "        mri       1.00      1.00      1.00         2\n",
      "\n",
      "avg / total       1.00      1.00      1.00         2\n",
      "\n"
     ]
    }
   ],
   "source": [
    "print (classification_report(predictions_testset,label_test))"
   ]
  }
 ],
 "metadata": {
  "kernelspec": {
   "display_name": "Python 3",
   "language": "python",
   "name": "python3"
  },
  "language_info": {
   "codemirror_mode": {
    "name": "ipython",
    "version": 3
   },
   "file_extension": ".py",
   "mimetype": "text/x-python",
   "name": "python",
   "nbconvert_exporter": "python",
   "pygments_lexer": "ipython3",
   "version": "3.6.1"
  }
 },
 "nbformat": 4,
 "nbformat_minor": 2
}
