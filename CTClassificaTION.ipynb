{
 "cells": [
  {
   "cell_type": "code",
   "execution_count": 1,
   "metadata": {
    "collapsed": true
   },
   "outputs": [],
   "source": [
    "import cv2                \n",
    "import numpy as np         \n",
    "import os                  \n",
    "from random import shuffle \n",
    "from tqdm import tqdm\n",
    "import tensorflow as tf\n",
    "import tflearn\n",
    "from tflearn.layers.conv import conv_2d, max_pool_2d\n",
    "from tflearn.layers.core import input_data, dropout, fully_connected\n",
    "from tflearn.layers.estimator import regression\n",
    "import matplotlib.pyplot as plt\n",
    "import dicom"
   ]
  },
  {
   "cell_type": "code",
   "execution_count": 2,
   "metadata": {},
   "outputs": [
    {
     "name": "stderr",
     "output_type": "stream",
     "text": [
      "100%|██████████| 2745/2745 [00:04<00:00, 646.64it/s]\n"
     ]
    }
   ],
   "source": [
    "TRAIN_DIR = '/home/anupama/Downloads/dataset/CTClassification/Train'\n",
    "TEST_DIR = '/home/anupama/Downloads/dataset/CTClassification/Test'\n",
    "IMG_SIZE = 50\n",
    "LR = 0.001\n",
    "MODEL_NAME = 'ct-{}-{}.model'.format(LR, '6conv-basic')\n",
    "\n",
    "def label_img(img):\n",
    "    word_label = img.split('.')[-3]\n",
    "    # conversion to one-hot array\n",
    "    if word_label == 'lungs': return [1,0,0]\n",
    "    elif word_label == 'colon': return [0,1,0]\n",
    "    elif word_label == 'head' : return [0,0,1]\n",
    "    \n",
    "def create_train_data():\n",
    "    training_data = []\n",
    "    for img in tqdm(os.listdir(TRAIN_DIR)):\n",
    "        label = label_img(img)\n",
    "        path = os.path.join(TRAIN_DIR,img)\n",
    "        img = dicom.read_file(path, force=True)\n",
    "        new_img = cv2.resize(np.array(img.pixel_array),(IMG_SIZE,IMG_SIZE))\n",
    "        training_data.append([np.array(new_img),np.array(label)])\n",
    "    shuffle(training_data)\n",
    "    np.save('/home/anupama/Anupama/train.npy', training_data)\n",
    "    return training_data   \n",
    "\n",
    "def process_test_data():\n",
    "    testing_data = []\n",
    "    for img in tqdm(os.listdir(TEST_DIR)):\n",
    "        path = os.path.join(TEST_DIR,img)\n",
    "        img_num = img.split('.')[0]\n",
    "        img = dicom.read_file(path, force=True)\n",
    "        new_img = cv2.resize(np.array(img.pixel_array),(IMG_SIZE,IMG_SIZE))\n",
    "        testing_data.append([np.array(new_img), img_num])\n",
    "        \n",
    "    shuffle(testing_data)\n",
    "    np.save('/home/anupama/Anupama/test.npy', testing_data)\n",
    "    return testing_data\n",
    "\n",
    "train_data = create_train_data()\n"
   ]
  },
  {
   "cell_type": "code",
   "execution_count": 3,
   "metadata": {},
   "outputs": [
    {
     "name": "stdout",
     "output_type": "stream",
     "text": [
      "Training Step: 409  | total loss: \u001b[1m\u001b[32m0.00000\u001b[0m\u001b[0m | time: 5.297s\n",
      "| Adam | epoch: 010 | loss: 0.00000 - acc: 1.0000 -- iter: 2560/2595\n",
      "Training Step: 410  | total loss: \u001b[1m\u001b[32m0.00000\u001b[0m\u001b[0m | time: 6.406s\n",
      "| Adam | epoch: 010 | loss: 0.00000 - acc: 1.0000 | val_loss: 0.00000 - val_acc: 1.0000 -- iter: 2595/2595\n",
      "--\n"
     ]
    }
   ],
   "source": [
    "convnet = input_data(shape=[None, IMG_SIZE, IMG_SIZE, 1], name='input')\n",
    "\n",
    "convnet = conv_2d(convnet, 32, 5, activation='relu')\n",
    "convnet = max_pool_2d(convnet, 5)\n",
    "\n",
    "convnet = conv_2d(convnet, 64, 5, activation='relu')\n",
    "convnet = max_pool_2d(convnet, 5)\n",
    "\n",
    "convnet = conv_2d(convnet, 32, 5, activation='relu')\n",
    "convnet = max_pool_2d(convnet, 5)\n",
    "\n",
    "convnet = conv_2d(convnet, 64, 5, activation='relu')\n",
    "convnet = max_pool_2d(convnet, 5)\n",
    "\n",
    "convnet = conv_2d(convnet, 32, 5, activation='relu')\n",
    "convnet = max_pool_2d(convnet, 5)\n",
    "\n",
    "convnet = conv_2d(convnet, 64, 5, activation='relu')\n",
    "convnet = max_pool_2d(convnet, 5)\n",
    "\n",
    "convnet = fully_connected(convnet, 1024, activation='relu')\n",
    "convnet = dropout(convnet, 0.8)\n",
    "\n",
    "convnet = fully_connected(convnet, 3, activation='softmax')\n",
    "convnet = regression(convnet, optimizer='adam', learning_rate=LR, loss='categorical_crossentropy', name='targets')\n",
    "\n",
    "model = tflearn.DNN(convnet, tensorboard_dir='log')\n",
    "\n",
    "\n",
    "if os.path.exists('{}.meta'.format(MODEL_NAME)):\n",
    "    model.load(MODEL_NAME)\n",
    "    print('model loaded!')\n",
    "    \n",
    "train = train_data[:-150]\n",
    "test = train_data[-150:]\n",
    "\n",
    "X = np.array([i[0] for i in train]).reshape(-1,IMG_SIZE,IMG_SIZE,1)\n",
    "Y = [i[1] for i in train]\n",
    "\n",
    "test_x = np.array([i[0] for i in test]).reshape(-1,IMG_SIZE,IMG_SIZE,1)\n",
    "test_y = [i[1] for i in test]\n",
    "\n",
    "model.fit({'input': X}, {'targets': Y}, n_epoch=10, validation_set=({'input': test_x}, {'targets': test_y}), \n",
    "    snapshot_step=100, show_metric=True, run_id=MODEL_NAME)"
   ]
  },
  {
   "cell_type": "code",
   "execution_count": 4,
   "metadata": {},
   "outputs": [
    {
     "name": "stderr",
     "output_type": "stream",
     "text": [
      "100%|██████████| 19/19 [00:00<00:00, 583.66it/s]"
     ]
    },
    {
     "name": "stdout",
     "output_type": "stream",
     "text": [
      "Arg max: 0\n",
      "Image number= 4\n",
      "Probabilities: [  1.00000000e+00   4.43689419e-10   8.68777938e-10]\n",
      "Arg max: 2\n",
      "Image number="
     ]
    },
    {
     "name": "stderr",
     "output_type": "stream",
     "text": [
      "\n"
     ]
    },
    {
     "name": "stdout",
     "output_type": "stream",
     "text": [
      " 14\n",
      "Probabilities: [  1.93934281e-16   5.91227797e-22   1.00000000e+00]\n",
      "Arg max: 0\n",
      "Image number= 10\n",
      "Probabilities: [  9.99999523e-01   2.27206243e-07   1.92233287e-07]\n",
      "Arg max: 1\n",
      "Image number= 17\n",
      "Probabilities: [  8.85520931e-05   9.99908566e-01   2.81181065e-06]\n",
      "Arg max: 1\n",
      "Image number= 1\n",
      "Probabilities: [  2.55216742e-06   9.99997258e-01   1.89137808e-07]\n",
      "Arg max: 0\n",
      "Image number= 6\n",
      "Probabilities: [  1.00000000e+00   4.46363196e-10   2.08445455e-10]\n"
     ]
    },
    {
     "data": {
      "image/png": "[encoded data removed]",
      "text/plain": [
       "<matplotlib.figure.Figure at 0x7f9a0c3a0f98>"
      ]
     },
     "metadata": {},
     "output_type": "display_data"
    }
   ],
   "source": [
    "#if you need to create the data:\n",
    "test_data = process_test_data()\n",
    "# if you already have some saved:\n",
    "#test_data = np.load('test_data.npy')\n",
    "\n",
    "fig=plt.figure()\n",
    "\n",
    "for num,data in enumerate(test_data[:6]):\n",
    "    # lungs: [1,0,0]\n",
    "    # colon: [0,1,0]\n",
    "    # head: [0,0,1]\n",
    "    \n",
    "    img_num = data[1]\n",
    "    img_data = data[0]\n",
    "    \n",
    "    y = fig.add_subplot(2,3,num+1)\n",
    "    orig = img_data\n",
    "    data = img_data.reshape(IMG_SIZE,IMG_SIZE,1)\n",
    "    \n",
    "    #model_out = model.predict([data])[0]\n",
    "    model_out = model.predict([data])[0]\n",
    "    print('Arg max:', np.argmax(model_out))\n",
    "    print('Image number=', img_num)\n",
    "    if np.argmax(model_out) == 1: str_label='Colon'\n",
    "    elif np.argmax(model_out) == 2: str_label='Head'\n",
    "    else: str_label='Lungs'\n",
    "    print('Probabilities:', model_out)   \n",
    "    \n",
    "    y.imshow(orig,cmap='gray')\n",
    "    plt.title(str_label)\n",
    "    y.axes.get_xaxis().set_visible(False)\n",
    "    y.axes.get_yaxis().set_visible(False)\n",
    "plt.show()"
   ]
  }
 ],
 "metadata": {
  "kernelspec": {
   "display_name": "Python 3",
   "language": "python",
   "name": "python3"
  },
  "language_info": {
   "codemirror_mode": {
    "name": "ipython",
    "version": 3
   },
   "file_extension": ".py",
   "mimetype": "text/x-python",
   "name": "python",
   "nbconvert_exporter": "python",
   "pygments_lexer": "ipython3",
   "version": "3.6.1"
  }
 },
 "nbformat": 4,
 "nbformat_minor": 2
}
